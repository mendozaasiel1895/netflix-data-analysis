{
 "cells": [
  {
   "cell_type": "code",
   "execution_count": 1,
   "id": "d301ddb0",
   "metadata": {},
   "outputs": [
    {
     "name": "stdout",
     "output_type": "stream",
     "text": [
      "            type                  title         director  \\\n",
      "show_id                                                    \n",
      "s1         Movie   Dick Johnson Is Dead  Kirsten Johnson   \n",
      "s2       TV Show          Blood & Water              NaN   \n",
      "s3       TV Show              Ganglands  Julien Leclercq   \n",
      "s4       TV Show  Jailbirds New Orleans              NaN   \n",
      "s5       TV Show           Kota Factory              NaN   \n",
      "...          ...                    ...              ...   \n",
      "s8803      Movie                 Zodiac    David Fincher   \n",
      "s8804    TV Show            Zombie Dumb              NaN   \n",
      "s8805      Movie             Zombieland  Ruben Fleischer   \n",
      "s8806      Movie                   Zoom     Peter Hewitt   \n",
      "s8807      Movie                 Zubaan      Mozez Singh   \n",
      "\n",
      "                                                      cast        country  \\\n",
      "show_id                                                                     \n",
      "s1                                                     NaN  United States   \n",
      "s2       Ama Qamata, Khosi Ngema, Gail Mabalane, Thaban...   South Africa   \n",
      "s3       Sami Bouajila, Tracy Gotoas, Samuel Jouy, Nabi...            NaN   \n",
      "s4                                                     NaN            NaN   \n",
      "s5       Mayur More, Jitendra Kumar, Ranjan Raj, Alam K...          India   \n",
      "...                                                    ...            ...   \n",
      "s8803    Mark Ruffalo, Jake Gyllenhaal, Robert Downey J...  United States   \n",
      "s8804                                                  NaN            NaN   \n",
      "s8805    Jesse Eisenberg, Woody Harrelson, Emma Stone, ...  United States   \n",
      "s8806    Tim Allen, Courteney Cox, Chevy Chase, Kate Ma...  United States   \n",
      "s8807    Vicky Kaushal, Sarah-Jane Dias, Raaghav Chanan...          India   \n",
      "\n",
      "                 date_added  release_year rating   duration  \\\n",
      "show_id                                                       \n",
      "s1       September 25, 2021          2020  PG-13     90 min   \n",
      "s2       September 24, 2021          2021  TV-MA  2 Seasons   \n",
      "s3       September 24, 2021          2021  TV-MA   1 Season   \n",
      "s4       September 24, 2021          2021  TV-MA   1 Season   \n",
      "s5       September 24, 2021          2021  TV-MA  2 Seasons   \n",
      "...                     ...           ...    ...        ...   \n",
      "s8803     November 20, 2019          2007      R    158 min   \n",
      "s8804          July 1, 2019          2018  TV-Y7  2 Seasons   \n",
      "s8805      November 1, 2019          2009      R     88 min   \n",
      "s8806      January 11, 2020          2006     PG     88 min   \n",
      "s8807         March 2, 2019          2015  TV-14    111 min   \n",
      "\n",
      "                                                 listed_in  \\\n",
      "show_id                                                      \n",
      "s1                                           Documentaries   \n",
      "s2         International TV Shows, TV Dramas, TV Mysteries   \n",
      "s3       Crime TV Shows, International TV Shows, TV Act...   \n",
      "s4                                  Docuseries, Reality TV   \n",
      "s5       International TV Shows, Romantic TV Shows, TV ...   \n",
      "...                                                    ...   \n",
      "s8803                       Cult Movies, Dramas, Thrillers   \n",
      "s8804               Kids' TV, Korean TV Shows, TV Comedies   \n",
      "s8805                              Comedies, Horror Movies   \n",
      "s8806                   Children & Family Movies, Comedies   \n",
      "s8807       Dramas, International Movies, Music & Musicals   \n",
      "\n",
      "                                               description  \n",
      "show_id                                                     \n",
      "s1       As her father nears the end of his life, filmm...  \n",
      "s2       After crossing paths at a party, a Cape Town t...  \n",
      "s3       To protect his family from a powerful drug lor...  \n",
      "s4       Feuds, flirtations and toilet talk go down amo...  \n",
      "s5       In a city of coaching centers known to train I...  \n",
      "...                                                    ...  \n",
      "s8803    A political cartoonist, a crime reporter and a...  \n",
      "s8804    While living alone in a spooky town, a young g...  \n",
      "s8805    Looking to survive in a world taken over by zo...  \n",
      "s8806    Dragged from civilian life, a former superhero...  \n",
      "s8807    A scrappy but poor boy worms his way into a ty...  \n",
      "\n",
      "[8807 rows x 11 columns]\n"
     ]
    }
   ],
   "source": [
    "import pandas as pd\n",
    "import matplotlib.pyplot as plt\n",
    "\n",
    "df = pd.read_csv(\"../data/netflix_titles.csv\", index_col= 0)\n",
    "\n",
    "print(df)"
   ]
  },
  {
   "cell_type": "code",
   "execution_count": 4,
   "id": "4438259b",
   "metadata": {},
   "outputs": [
    {
     "name": "stdout",
     "output_type": "stream",
     "text": [
      "type\n",
      "Movie      6131\n",
      "TV Show    2676\n",
      "Name: count, dtype: int64\n"
     ]
    }
   ],
   "source": [
    "counts = df[\"type\"].value_counts()\n",
    "print(counts)"
   ]
  },
  {
   "cell_type": "code",
   "execution_count": 3,
   "id": "f689e5b9",
   "metadata": {},
   "outputs": [
    {
     "data": {
      "image/png": "[encoded data removed]",
      "text/plain": [
       "<Figure size 600x400 with 1 Axes>"
      ]
     },
     "metadata": {},
     "output_type": "display_data"
    }
   ],
   "source": [
    "plt.figure(figsize=(6,4))\n",
    "counts.plot(kind='bar')\n",
    "plt.title(\"Movies vs TV Shows on Netflix\")\n",
    "plt.xlabel(\"Type\")\n",
    "plt.ylabel(\"Count\")\n",
    "plt.xticks(rotation=0)\n",
    "plt.show()"
   ]
  },
  {
   "cell_type": "code",
   "execution_count": null,
   "id": "e21c9223",
   "metadata": {},
   "outputs": [],
   "source": []
  }
 ],
 "metadata": {
  "kernelspec": {
   "display_name": "Python 3",
   "language": "python",
   "name": "python3"
  },
  "language_info": {
   "codemirror_mode": {
    "name": "ipython",
    "version": 3
   },
   "file_extension": ".py",
   "mimetype": "text/x-python",
   "name": "python",
   "nbconvert_exporter": "python",
   "pygments_lexer": "ipython3",
   "version": "3.13.1"
  }
 },
 "nbformat": 4,
 "nbformat_minor": 5
}
